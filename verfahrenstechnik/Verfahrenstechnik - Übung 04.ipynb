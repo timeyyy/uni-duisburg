{
 "cells": [
  {
   "cell_type": "markdown",
   "metadata": {},
   "source": [
    "## 4.1\n",
    "\n",
    "Problem is solved by just plugging numbers in ...\n",
    "\n",
    "$\\rho_f = $druck fluiedes\n",
    "\n",
    "i don't relaly get how $\\delta = 0 $..\n",
    "\n",
    "$$ 6\\gamma\\frac{1-\\epsilon}{\\rho_fg\\epsilon d_p}cos\\delta $$\n",
    "\n",
    "$$h_k \\approx 0.75m$$"
   ]
  },
  {
   "cell_type": "markdown",
   "metadata": {},
   "source": [
    "## 4.2\n",
    "\n"
   ]
  }
 ],
 "metadata": {
  "kernelspec": {
   "display_name": "Python 3",
   "language": "python",
   "name": "python3"
  },
  "language_info": {
   "codemirror_mode": {
    "name": "ipython",
    "version": 3
   },
   "file_extension": ".py",
   "mimetype": "text/x-python",
   "name": "python",
   "nbconvert_exporter": "python",
   "pygments_lexer": "ipython3",
   "version": "3.5.1"
  }
 },
 "nbformat": 4,
 "nbformat_minor": 0
}
