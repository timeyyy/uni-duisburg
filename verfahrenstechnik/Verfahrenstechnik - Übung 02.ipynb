{
 "cells": [
  {
   "cell_type": "markdown",
   "metadata": {},
   "source": [
    "## Aufgabe 2.1\n",
    "\n",
    "$$ x_f = x_{f1} + x_{f2} $$\n",
    "\n",
    "$$ x_{f1} = a cos(\\alpha) $$\n",
    "\n",
    "$$ x_{f2} = 2a sin(\\alpha) $$\n",
    "\n",
    "mittlewert = mean = sum of parts / number of parts =  $ \\frac{2\\int{x_f}}{\\pi}$\n",
    "\n",
    "$$ 2\\int_{0}^{\\pi/2}{a cos(\\alpha) + 2a sin(\\alpha)}  = \\frac{6a}{\\pi} $$\n",
    "\n",
    "## Aufgabe 2.3\n",
    "\n",
    "$$ \\epsilon = Faktorporosität = \\frac{area of pores}{Area}   $$\n",
    "\n",
    "$$ A = m^2 = 1 $$\n",
    "\n",
    "$$ \\epsilon = \\frac{10^{13} (200 * 10^{-9}) ^2}{4} \\pi = 10^{-1 }* 4  = 31.4\\%$$"
   ]
  }
 ],
 "metadata": {
  "kernelspec": {
   "display_name": "Python 3",
   "language": "python",
   "name": "python3"
  },
  "language_info": {
   "codemirror_mode": {
    "name": "ipython",
    "version": 3
   },
   "file_extension": ".py",
   "mimetype": "text/x-python",
   "name": "python",
   "nbconvert_exporter": "python",
   "pygments_lexer": "ipython3",
   "version": "3.5.1"
  }
 },
 "nbformat": 4,
 "nbformat_minor": 0
}
