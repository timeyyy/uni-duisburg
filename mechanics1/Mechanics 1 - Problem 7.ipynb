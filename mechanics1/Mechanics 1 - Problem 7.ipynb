{
 "cells": [
  {
   "cell_type": "markdown",
   "metadata": {},
   "source": [
    "** Note: car starts from stand still, accelerates and then stops in the given distance**\n",
    "\n",
    "# a) overal distance covered by the car #\n",
    "\n",
    "$$ x(t_t) = x(t) + x_{decel} $$\n",
    "\n",
    "$$ x(t) = x_0 + v_0t + \\frac{at^2}{2} $$\n",
    "\n",
    "$$ v_f(t) =  v_0 + at  $$\n",
    "\n",
    "$$ a = \\frac{v_f}{t} $$\n",
    "\n",
    "$$ x(t) = \\frac{v_ft}{2}  + x_d $$\n",
    "\n",
    "$$ x(5) = \\frac{100 * 5}{3.6 * 2} + 40 =  109.45m$$\n",
    "\n",
    "# b) Total time #\n",
    "\n",
    "$$ t_t = t + t_{decel} $$\n",
    "\n",
    "shift the origin so that $x_0$ = 0\n",
    "\n",
    "$$ x_f = x_0 + v_0(t_d) + \\frac{a_dt_d^2}{2} $$\n",
    "\n",
    "$$ v_f^2 -v_0^2 = 2a_d\\Delta s $$\n",
    "\n",
    "$$ a_d = \\frac{-v_0^2}{2(s_f - s_0)} $$\n",
    "\n",
    "$$ v_f = v_0 + a_dt_d $$\n",
    "\n",
    "$$ t_d = \\frac{-v_0}{a_2} $$\n",
    "\n",
    "$$ t_d = \\frac{2(s_f - s_0)}{v_0} = \\frac{2*40*3.6}{100} = 2.88s $$\n",
    "\n",
    "$$  t_t = 7.88s $$\n",
    "\n",
    "# c) average speed#\n",
    "\n",
    "$$ \\bar{v} = \\frac{x}{t} = \\frac{109.45}{7.88}  13.89m/s $$"
   ]
  }
 ],
 "metadata": {
  "kernelspec": {
   "display_name": "Python 3",
   "language": "python",
   "name": "python3"
  },
  "language_info": {
   "codemirror_mode": {
    "name": "ipython",
    "version": 3
   },
   "file_extension": ".py",
   "mimetype": "text/x-python",
   "name": "python",
   "nbconvert_exporter": "python",
   "pygments_lexer": "ipython3",
   "version": "3.4.3"
  }
 },
 "nbformat": 4,
 "nbformat_minor": 0
}
