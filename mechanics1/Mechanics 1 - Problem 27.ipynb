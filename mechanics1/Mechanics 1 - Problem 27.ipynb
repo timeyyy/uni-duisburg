{
 "cells": [
  {
   "cell_type": "markdown",
   "metadata": {},
   "source": [
    "<img src='img/fig27a.png'>\n",
    "\n",
    "### b) relation of $\\alpha $ and $a $\n",
    "\n",
    "$$ a = \\alpha r $$\n",
    "\n",
    "### c) Equation of the motion of the disk\n",
    "\n",
    "$$ \\tau = Tr = I \\alpha $$\n",
    "\n",
    "$$ T=\\frac{Mr\\alpha}{2} $$\n",
    "\n",
    "### d) Equation of motion for the block\n",
    "\n",
    "$$ mg -T = ma $$\n",
    "\n",
    "### e) find $\\alpha$\n",
    "\n",
    "$$ T = mg - ma $$\n",
    "\n",
    "$$ T = m(g-\\alpha r) = \\frac{Mr\\alpha}{2}$$\n",
    "\n",
    "$$ mg - mr\\alpha = \\frac{Mr \\alpha}{2} $$\n",
    "\n",
    "$$ (\\frac{M}{2} + m)r\\alpha = mg $$\n",
    "\n",
    "$$ \\alpha = \\frac{2mg}{r(M+2m)} $$\n",
    "\n",
    "### f) velocity of block after it travels 2r\n",
    "\n",
    "accleartion is constant so\n",
    "\n",
    "$$ v_f = \\sqrt{2as}  = \\sqrt{2\\alpha rs} = \\sqrt{4\\alpha r^2}$$\n",
    "\n",
    "$$ v_f = \\sqrt{\\frac{8mgr}{M+2m}} $$"
   ]
  }
 ],
 "metadata": {
  "kernelspec": {
   "display_name": "Python 3",
   "language": "python",
   "name": "python3"
  },
  "language_info": {
   "codemirror_mode": {
    "name": "ipython",
    "version": 3
   },
   "file_extension": ".py",
   "mimetype": "text/x-python",
   "name": "python",
   "nbconvert_exporter": "python",
   "pygments_lexer": "ipython3",
   "version": "3.5.1"
  }
 },
 "nbformat": 4,
 "nbformat_minor": 0
}
