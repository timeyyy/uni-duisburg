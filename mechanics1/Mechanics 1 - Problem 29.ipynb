{
 "cells": [
  {
   "cell_type": "markdown",
   "metadata": {},
   "source": [
    "<img src='img/fig29a.png'>\n"
   ]
  },
  {
   "cell_type": "markdown",
   "metadata": {},
   "source": [
    "b) find center of mass\n",
    "$$  \\frac{m_ir_i}{\\Sigma m} = \\frac{L}{2} $$"
   ]
  },
  {
   "cell_type": "markdown",
   "metadata": {},
   "source": [
    "c) find $\\alpha$\n",
    "$$ I \\alpha = \\sum Moments $$\n",
    "\n",
    "$$ I = \\sum m_i r_i^2$$\n",
    "\n",
    "(do again with the parallel axis theroem)\n",
    "\n",
    "$$ I = m(\\frac{-L}{3})^2 + m(\\frac{L}{3})^2  $$\n",
    "\n",
    "$$ I = \\frac{5L^2m}{9} $$\n",
    "\n",
    "$$ \\sum Moments = \\frac{Lmg}{3}-\\frac{2Lmg}{3} = \\frac{-mgL}{3} $$\n",
    "\n",
    "$$ \\alpha = \\frac{-3g}{5L} $$"
   ]
  },
  {
   "cell_type": "markdown",
   "metadata": {},
   "source": [
    "$$ a = \\alpha r $$\n",
    "\n",
    "$$ r = \\frac{1}{2} - \\frac{1}{3} = \\frac{1}{6} $$\n",
    "\n",
    "$$ a = \\frac{-g}{10} $$"
   ]
  }
 ],
 "metadata": {
  "kernelspec": {
   "display_name": "Python 3",
   "language": "python",
   "name": "python3"
  },
  "language_info": {
   "codemirror_mode": {
    "name": "ipython",
    "version": 3
   },
   "file_extension": ".py",
   "mimetype": "text/x-python",
   "name": "python",
   "nbconvert_exporter": "python",
   "pygments_lexer": "ipython3",
   "version": "3.4.3"
  }
 },
 "nbformat": 4,
 "nbformat_minor": 0
}
