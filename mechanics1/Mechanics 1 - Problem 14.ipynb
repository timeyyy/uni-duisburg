{
 "cells": [
  {
   "cell_type": "markdown",
   "metadata": {},
   "source": [
    "### a) find maximum mass G ####\n",
    "\n",
    "most important bit is getting the free body diagram correct\n",
    "<img src=\"img/fig14a.png\">\n",
    "\n",
    "(1)\n",
    "\n",
    "$$ y(t_1) = - \\frac{-at^2}{2} $$\n",
    "\n",
    "from newtons second law\n",
    "\n",
    "$$ F_{total} = Tension- F_{gravity} $$\n",
    "\n",
    "$$ T = R $$\n",
    "\n",
    "$$ Weight = N = G $$\n",
    "\n",
    "$$ m = \\frac{G}{g} $$\n",
    "\n",
    "$$ F_g = mg = \\frac{G}{g} $$\n",
    "\n",
    "$$ R - G = \\frac{G}{g}a $$\n",
    "\n",
    "$$ a = \\frac{g}{G}(R-G) = \\frac{dv}{dt} $$\n",
    "\n",
    "$$ \\int dv = \\frac{g}{G}(R-G)\\int dt $$\n",
    "\n",
    "$$ v = \\frac{g}{G}(R-G)t = \\frac{ds}{dt} $$\n",
    "\n",
    "$$ \\int ds = \\frac{g}{G}(R-G)\\int tdt $$\n",
    "\n",
    "$$ s = \\frac{t^2}{2}\\frac{g}{G}(R-G) $$\n",
    "\n",
    "$$ G = \\frac{Rgt_1^2}{2s_1+t_1^2g} $$\n"
   ]
  }
 ],
 "metadata": {
  "kernelspec": {
   "display_name": "Python 3",
   "language": "python",
   "name": "python3"
  },
  "language_info": {
   "codemirror_mode": {
    "name": "ipython",
    "version": 3
   },
   "file_extension": ".py",
   "mimetype": "text/x-python",
   "name": "python",
   "nbconvert_exporter": "python",
   "pygments_lexer": "ipython3",
   "version": "3.4.3"
  }
 },
 "nbformat": 4,
 "nbformat_minor": 0
}
