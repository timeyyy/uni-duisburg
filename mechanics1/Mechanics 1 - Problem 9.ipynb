{
 "cells": [
  {
   "cell_type": "markdown",
   "metadata": {},
   "source": [
    "** given ** \n",
    "$$ a_1(v_1) = a_0(1-\\frac{v_1}{c_0}) $$\n",
    "\n",
    "### a) Describe the speed of car C1 as a function of time ###\n",
    "\n",
    "$$ \\frac{dv}{dt} = a $$\n",
    "\n",
    "$$ \\frac{dv}{a(v)} = dt $$\n",
    "\n"
   ]
  },
  {
   "cell_type": "code",
   "execution_count": 124,
   "metadata": {
    "collapsed": true
   },
   "outputs": [],
   "source": [
    "from sympy import *\n",
    "init_printing(use_latex='mathjax')\n"
   ]
  },
  {
   "cell_type": "code",
   "execution_count": 125,
   "metadata": {
    "collapsed": false
   },
   "outputs": [
    {
     "data": {
      "text/latex": [
       "$$t = \\frac{1}{a_{0}} \\int_{v_{0}}^{v} \\frac{1}{1 - \\frac{v}{c_{0}}}\\, dv$$"
      ],
      "text/plain": [
       "    v           \n",
       "    ⌠           \n",
       "    ⎮    1      \n",
       "    ⎮  ────── dv\n",
       "    ⎮      v    \n",
       "    ⎮  1 - ──   \n",
       "    ⎮      c₀   \n",
       "    ⌡           \n",
       "    v₀          \n",
       "t = ────────────\n",
       "         a₀     "
      ]
     },
     "execution_count": 125,
     "metadata": {},
     "output_type": "execute_result"
    }
   ],
   "source": [
    "a0, t, v, v_0, c0 = symbols(\"a_0 t v v_0 c_0\")\n",
    "igl = Integral(1/(1-v/c0), (v, v_0, v))\n",
    "eqn = Eq(t, 1/a0 * igl)\n",
    "eqn"
   ]
  },
  {
   "cell_type": "code",
   "execution_count": 126,
   "metadata": {
    "collapsed": false
   },
   "outputs": [
    {
     "data": {
      "text/latex": [
       "$$t = \\frac{1}{a_{0}} \\left(- c_{0} \\log{\\left (- c_{0} + v \\right )} + c_{0} \\log{\\left (- c_{0} + v_{0} \\right )}\\right)$$"
      ],
      "text/plain": [
       "    -c₀⋅log(-c₀ + v) + c₀⋅log(-c₀ + v₀)\n",
       "t = ───────────────────────────────────\n",
       "                     a₀                "
      ]
     },
     "execution_count": 126,
     "metadata": {},
     "output_type": "execute_result"
    }
   ],
   "source": [
    "res = eqn.doit()\n",
    "res"
   ]
  },
  {
   "cell_type": "code",
   "execution_count": 127,
   "metadata": {
    "collapsed": false
   },
   "outputs": [
    {
     "data": {
      "text/latex": [
       "$$v = c_{0} + e^{\\frac{1}{c_{0}} \\left(- a_{0} t + c_{0} \\log{\\left (- c_{0} + v_{0} \\right )}\\right)}$$"
      ],
      "text/plain": [
       "          -a₀⋅t + c₀⋅log(-c₀ + v₀)\n",
       "          ────────────────────────\n",
       "                     c₀           \n",
       "v = c₀ + ℯ                        "
      ]
     },
     "execution_count": 127,
     "metadata": {},
     "output_type": "execute_result"
    }
   ],
   "source": [
    "solved = solve(res, v)[0]\n",
    "ans = Eq(v, solved)\n",
    "ans"
   ]
  },
  {
   "cell_type": "markdown",
   "metadata": {},
   "source": [
    "### b) Describe the distance travelled by car C1 as f(t) ###\n",
    "$$ \\frac{dx}{dt} = v $$"
   ]
  },
  {
   "cell_type": "code",
   "execution_count": 128,
   "metadata": {
    "collapsed": false
   },
   "outputs": [
    {
     "data": {
      "text/latex": [
       "$$\\frac{d}{d t} x{\\left (t \\right )} = c_{0} + e^{\\frac{1}{c_{0}} \\left(- a_{0} t + c_{0} \\log{\\left (- c_{0} + v_{0} \\right )}\\right)}$$"
      ],
      "text/plain": [
       "                 -a₀⋅t + c₀⋅log(-c₀ + v₀)\n",
       "                 ────────────────────────\n",
       "d                           c₀           \n",
       "──(x(t)) = c₀ + ℯ                        \n",
       "dt                                       "
      ]
     },
     "execution_count": 128,
     "metadata": {},
     "output_type": "execute_result"
    }
   ],
   "source": [
    "x = Function('x')\n",
    "eqn = Eq(x(t).diff(), solved)\n",
    "eqn"
   ]
  },
  {
   "cell_type": "code",
   "execution_count": 129,
   "metadata": {
    "collapsed": false
   },
   "outputs": [
    {
     "data": {
      "text/latex": [
       "$$x{\\left (t \\right )} = C_{1} + c_{0} t + \\begin{cases} t \\left(- c_{0} + v_{0}\\right) & \\text{for}\\: a_{0} = 0 \\\\\\frac{1}{a_{0}} \\left(c_{0}^{2} - c_{0} v_{0}\\right) e^{- \\frac{a_{0} t}{c_{0}}} & \\text{otherwise} \\end{cases}$$"
      ],
      "text/plain": [
       "                   ⎛⎧    t⋅(-c₀ + v₀)       for a₀ = 0⎞\n",
       "                   ⎜⎪                                 ⎟\n",
       "                   ⎜⎪               -a₀⋅t             ⎟\n",
       "                   ⎜⎪               ──────            ⎟\n",
       "x(t) = C₁ + c₀⋅t + ⎜⎨⎛  2        ⎞    c₀              ⎟\n",
       "                   ⎜⎪⎝c₀  - c₀⋅v₀⎠⋅ℯ                  ⎟\n",
       "                   ⎜⎪─────────────────────  otherwise ⎟\n",
       "                   ⎜⎪          a₀                     ⎟\n",
       "                   ⎝⎩                                 ⎠"
      ]
     },
     "execution_count": 129,
     "metadata": {},
     "output_type": "execute_result"
    }
   ],
   "source": [
    "res = dsolve(eqn)\n",
    "answer = res.args[1].args[2].args[1][0]\n",
    "res"
   ]
  },
  {
   "cell_type": "markdown",
   "metadata": {},
   "source": [
    "### part c) Describe the speed v2 of car c2 as a function of time\n",
    "simply $$ v_2(t) = v_0 $$\n",
    "\n",
    "### part c) Describe the distance x2 of car c2 as a function of time\n",
    "\n",
    "simply $$ x_f = x_0 + v_0t $$\n",
    "\n",
    "### part d) Describe the distance between c1 and c2 as a function of time\n",
    "\n",
    "$$ \\Delta x(t) = x_1(t) - x_2(t) $$\n",
    "\n"
   ]
  }
 ],
 "metadata": {
  "kernelspec": {
   "display_name": "Python 3",
   "language": "python",
   "name": "python3"
  },
  "language_info": {
   "codemirror_mode": {
    "name": "ipython",
    "version": 3
   },
   "file_extension": ".py",
   "mimetype": "text/x-python",
   "name": "python",
   "nbconvert_exporter": "python",
   "pygments_lexer": "ipython3",
   "version": "3.5.1"
  }
 },
 "nbformat": 4,
 "nbformat_minor": 0
}
