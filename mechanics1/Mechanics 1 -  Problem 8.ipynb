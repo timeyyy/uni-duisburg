{
 "cells": [
  {
   "cell_type": "markdown",
   "metadata": {},
   "source": [
    "# Problem 8 #"
   ]
  },
  {
   "cell_type": "markdown",
   "metadata": {
    "collapsed": true
   },
   "source": [
    "### a) We need to find x(v) ###\n",
    "\n",
    "\n",
    "$$ a(v) = a_0(1- \\frac{v^2}{v_m^2}) $$\n",
    "\n",
    "$$ a=\\frac{dv}{dt} , v=\\frac{dx}{dt}, a=v\\frac{dv}{dx} $$\n",
    "\n",
    "$$ v\\frac{dv}{dx}=a_0(1-\\frac{v^2}{v_m^2}) $$\n",
    "\n",
    "$$ \\frac{vdv}{(1-\\frac{v^2}{v_m^2})} = a_0dx $$\n",
    "\n",
    "$$ vdv / (\\frac{v_m^2-v^2}{v_m^2}) = a_0dx $$\n",
    "\n",
    "$$ \\frac{v_m^2vdv}{v_m^2-v^2} = a_0dx $$\n",
    "\n",
    "$$ v_m^2\\int{\\frac{vdv}{v_m^2-v^2}} = a_0\\int{dx} $$\n",
    "\n",
    "$$ u = -v^2, \\frac{du}{dv} = -2v $$\n",
    "\n",
    "$$ -\\frac{v_m^2}{2} \\int{\\frac{du}{v_m^2-u}} = a_0\\int{dx} $$\n",
    "\n",
    "$$ -\\frac{v_m^2}{2}(ln{|v_m^2-v_f^2|} - ln {|v_m^2-v_0^2 |} ) = a_0(x_1 - x_0) $$\n",
    "\n",
    "$$ -\\frac{v_m^2}{2}(ln{|\\frac{v_m^2-v_f^2}{v_m^2}|} ) = a_0(x_1 - x_0) $$\n",
    "\n",
    "$$ x_1 = -(\\frac{v_m^2}{2}(ln{|\\frac{v_m^2-v_f^2}{v_m^2}|} ))/ a_0 + x_0 $$"
   ]
  },
  {
   "cell_type": "code",
   "execution_count": 1,
   "metadata": {
    "collapsed": false
   },
   "outputs": [
    {
     "data": {
      "text/latex": [
       "$$x_{1} = 350.9 m$$"
      ],
      "text/plain": [
       "x₁ = 350.9⋅m"
      ]
     },
     "execution_count": 1,
     "metadata": {},
     "output_type": "execute_result"
    }
   ],
   "source": [
    "from sympy import *\n",
    "import sympy.physics.units as u\n",
    "init_printing(use_latex='mathjax')\n",
    "#Constants\n",
    "knots = 1.852/3.6\n",
    "vm_c = 140 * knots\n",
    "a0_c = 1.5\n",
    "#symbols\n",
    "x1 = Symbol(\"x_1\")\n",
    "\n",
    "def x_1(vf, x_0=0):\n",
    "    res = -(vm_c**2/2 * log((vm_c**2-vf**2)/vm_c**2)) /a0_c + x_0\n",
    "    return res\n",
    "res_a = x_1(60 * knots)\n",
    "\n",
    "Eq(x1, round(res_a, 2)*u.m)"
   ]
  },
  {
   "cell_type": "markdown",
   "metadata": {},
   "source": [
    "### b) Compute the total distance travelled when reaching the height of h =  50 ft ###\n",
    "\n",
    "$$ x_t = x_1 + x_2 $$\n",
    "\n",
    "Time to travel to height 50 \n",
    "$$ y_2 = y_1 +wt_2 $$\n",
    "(1)\n",
    "$$ t_2 = \\frac{y_2}{w} $$\n",
    "\n",
    "After taking off velocity in the x direction is constant as velocity in the y direction is constant, this relationship is important to realize otherwise things get really messy.\n",
    "\n",
    "$$ \\int_{x_1=0}^{x_2}{dx}= v_1\\int_{t_1=0}^{t_2}{dt} $$\n",
    "$$ x_2 = v_1t_2 $$\n",
    "\n",
    "put (1) into above equation\n",
    "$$x_2(t) = v_1\\frac{h}{w}$$\n",
    "\n",
    "$$ x_t = 350.9 +\\frac{50*60*\\frac{1.852}{3.6}}{{1000}}$$"
   ]
  },
  {
   "cell_type": "code",
   "execution_count": 2,
   "metadata": {
    "collapsed": false
   },
   "outputs": [
    {
     "data": {
      "text/latex": [
       "$$x_{t} = 352.4 m$$"
      ],
      "text/plain": [
       "x_t = 352.4⋅m"
      ]
     },
     "execution_count": 2,
     "metadata": {},
     "output_type": "execute_result"
    }
   ],
   "source": [
    "w_c = 1000\n",
    "h_c = 50\n",
    "v1_c = 60 * knots\n",
    "v1, h, w, x2, xt = symbols(\"v_1 h w x_2 x_t\")\n",
    "\n",
    "eq = Eq(x2, v1*(h/w))\n",
    "eq = eq.subs(v1, v1_c,)\n",
    "eq = eq.subs(h, h_c)\n",
    "eq = eq.subs(w, w_c)\n",
    "Eq(xt, round(res_a + eq.args[1], 1)*u.m, )"
   ]
  }
 ],
 "metadata": {
  "kernelspec": {
   "display_name": "Python 3",
   "language": "python",
   "name": "python3"
  },
  "language_info": {
   "codemirror_mode": {
    "name": "ipython",
    "version": 3
   },
   "file_extension": ".py",
   "mimetype": "text/x-python",
   "name": "python",
   "nbconvert_exporter": "python",
   "pygments_lexer": "ipython3",
   "version": "3.4.3"
  }
 },
 "nbformat": 4,
 "nbformat_minor": 0
}
