{
 "cells": [
  {
   "cell_type": "markdown",
   "metadata": {},
   "source": [
    "# Problem 8 #"
   ]
  },
  {
   "cell_type": "markdown",
   "metadata": {
    "collapsed": true
   },
   "source": [
    "### a) We need to find x(v) ###\n",
    "\n",
    "\n",
    "$a(v) = a_0(1- \\frac{v^2}{v_m^2})$\n",
    "\n",
    "$ a=\\frac{dv}{dt} , v=\\frac{dx}{dt}, a=v\\frac{dv}{dx} $\n",
    "\n",
    "$ v\\frac{dv}{dx}=a_0(1-\\frac{v^2}{v_m^2}) $\n",
    "\n",
    "$ \\frac{vdv}{(1-\\frac{v^2}{v_m^2})} = a_0dx $\n",
    "\n",
    "$ vdv / (\\frac{v_m^2-v^2}{v_m^2}) = a_0dx $\n",
    "\n",
    "$ \\frac{v_m^2vdv}{v_m^2-v^2} = a_0dx $\n",
    "\n",
    "$ v_m^2\\int{\\frac{vdv}{v_m^2-v^2}} = a_0\\int{dx}$\n",
    "\n",
    "$ u = -v^2, \\frac{du}{dv} = -2v $\n",
    "\n",
    "$ -\\frac{v_m^2}{2} \\int{\\frac{du}{v_m^2-u}} = a_0\\int{dx} $\n",
    "\n",
    "$ -\\frac{v_m^2}{2}(ln{|v_m^2-v_f^2|} - ln {|v_m^2-v_0^2 |} ) = a_0(x_f - x_0) $\n",
    "\n",
    "$ -\\frac{v_m^2}{2}(ln{|\\frac{v_m^2-v_f^2}{v_m^2}|} ) = a_0(x_f - x_0) $\n",
    "\n",
    "$ x_f = -(\\frac{v_m^2}{2}(ln{|\\frac{v_m^2-v_f^2}{v_m^2}|} ))/ a_0 + x_0 $"
   ]
  },
  {
   "cell_type": "code",
   "execution_count": 129,
   "metadata": {
    "collapsed": false
   },
   "outputs": [
    {
     "name": "stdout",
     "output_type": "stream",
     "text": [
      "350.9\n"
     ]
    }
   ],
   "source": [
    "from numpy import *\n",
    "from sympy import *\n",
    "init_printing(use_latex='mathjax')\n",
    "#Constants\n",
    "knots_to_si = 1.852/3.6\n",
    "v_m = 140 * knots_to_si\n",
    "a_0 = 1.5\n",
    "\n",
    "def x_f(v_f, x_0=0):\n",
    "    res = -(v_m**2/2 * log((v_m**2-v_f**2)/v_m**2)) /a_0 + x_0\n",
    "    return round(res, 2)\n",
    "res_a = x_f(60 * knots_to_si)\n",
    "print(res_a)"
   ]
  },
  {
   "cell_type": "markdown",
   "metadata": {},
   "source": [
    "### b) Compute the total distance travelled when reaching the height of h =  50 ft ###\n",
    "\n",
    "* find time to 50ft\n",
    "* find the current ?\n",
    "\n",
    "\n",
    "\n",
    "Time to travel to height 50 \n",
    "$$ y_f = y_0 +v_0t $$\n",
    "$$ t_1 = \\frac{y_f}{v_0} $$\n",
    "\n",
    "Distance Traveled in air will be \n",
    "$$ s = \\sqrt{y^2 + x^2} $$\n",
    "\n",
    "Solving for distance in air\n",
    "$$ \\frac{dx}{dt} = v $$\n",
    "$$ v_f = \\sqrt{v_m^2(1-e^{-\\frac{2a}{v_m^2}(x_f-x_0)}}  $$\n",
    "seems algebrically impossible...$$ \\frac{dx}{dt} = \\sqrt{v_m^2(1-e^{-\\frac{2a}{v_m^2}(x_f-x_0)}}$$\n",
    "\n",
    "Ok lets try integrate the inital equation $$ a(v) = a_0(1- \\frac{v^2}{v_m^2}) $$\n",
    "$$ a=\\frac{dv}{dt} $$\n",
    "\n",
    "$$ \\int dt = \\int{\\frac{dv}{a_0(1- \\frac{v^2}{v_m^2})}} $$\n",
    "\n",
    "$$ v = \\frac{dx}{dt} $$"
   ]
  },
  {
   "cell_type": "code",
   "execution_count": 130,
   "metadata": {
    "collapsed": false
   },
   "outputs": [
    {
     "name": "stdout",
     "output_type": "stream",
     "text": [
      "Time at s1: 350.9\n"
     ]
    },
    {
     "data": {
      "text/latex": [
       "$$\\int \\frac{1}{a_{0} \\left(- \\frac{v^{2}}{v_{m}^{2}} + 1\\right)}\\, dv$$"
      ],
      "text/plain": [
       "⌠                   \n",
       "⎮        1          \n",
       "⎮ ─────────────── dv\n",
       "⎮    ⎛    2     ⎞   \n",
       "⎮    ⎜   v      ⎟   \n",
       "⎮ a₀⋅⎜- ──── + 1⎟   \n",
       "⎮    ⎜     2    ⎟   \n",
       "⎮    ⎝  v_m     ⎠   \n",
       "⌡                   "
      ]
     },
     "execution_count": 130,
     "metadata": {},
     "output_type": "execute_result"
    }
   ],
   "source": [
    "\n",
    "print(\"Time at s1: {0}\".format(res_a))\n",
    "w_c = 1000\n",
    "h_c = 50\n",
    "a0 = Symbol(\"a_0\")\n",
    "w = Symbol(\"w\")\n",
    "s1 = Symbol(\"s_1\")\n",
    "v = Symbol(\"v\")\n",
    "vm = Symbol(\"v_m\")\n",
    "v0 = Symbol(\"v_0\")\n",
    "vf = Symbol(\"v_f\")\n",
    "\n",
    "t_1= h_c/w_c\n",
    "\n",
    "exp = 1/(a0*(1-(v**2/vm**2)))\n",
    "rslt = Integral(exp, v)\n",
    "rslt\n"
   ]
  },
  {
   "cell_type": "code",
   "execution_count": 131,
   "metadata": {
    "collapsed": false
   },
   "outputs": [
    {
     "data": {
      "text/latex": [
       "$$- \\frac{v_{m}}{a_{0}} \\left(\\frac{1}{2} \\log{\\left (v - v_{m} \\right )} - \\frac{1}{2} \\log{\\left (v + v_{m} \\right )}\\right)$$"
      ],
      "text/plain": [
       "     ⎛log(v - v_m)   log(v + v_m)⎞ \n",
       "-v_m⋅⎜──────────── - ────────────⎟ \n",
       "     ⎝     2              2      ⎠ \n",
       "───────────────────────────────────\n",
       "                 a₀                "
      ]
     },
     "execution_count": 131,
     "metadata": {},
     "output_type": "execute_result"
    }
   ],
   "source": [
    "rhs = rslt.doit()\n",
    "rhs\n"
   ]
  },
  {
   "cell_type": "code",
   "execution_count": 132,
   "metadata": {
    "collapsed": false
   },
   "outputs": [
    {
     "data": {
      "text/latex": [
       "$$t = - \\frac{v_{m}}{a_{0}} \\left(\\frac{1}{2} \\log{\\left (- v_{m} + \\frac{d}{d t} x{\\left (t \\right )} \\right )} - \\frac{1}{2} \\log{\\left (v_{m} + \\frac{d}{d t} x{\\left (t \\right )} \\right )}\\right)$$"
      ],
      "text/plain": [
       "         ⎛   ⎛       d       ⎞      ⎛      d       ⎞⎞ \n",
       "         ⎜log⎜-v_m + ──(x(t))⎟   log⎜v_m + ──(x(t))⎟⎟ \n",
       "         ⎜   ⎝       dt      ⎠      ⎝      dt      ⎠⎟ \n",
       "    -v_m⋅⎜──────────────────── - ───────────────────⎟ \n",
       "         ⎝         2                      2         ⎠ \n",
       "t = ──────────────────────────────────────────────────\n",
       "                            a₀                        "
      ]
     },
     "execution_count": 132,
     "metadata": {},
     "output_type": "execute_result"
    }
   ],
   "source": [
    "#second integration to determine x(t)\n",
    "t = Symbol(\"t\")\n",
    "x = Function('x')\n",
    "int2 = rhs.subs(v, x(t).diff(t))\n",
    "exp = Eq(t, int2)\n",
    "exp\n"
   ]
  },
  {
   "cell_type": "code",
   "execution_count": 133,
   "metadata": {
    "collapsed": false
   },
   "outputs": [
    {
     "data": {
      "text/latex": [
       "$$x{\\left (t \\right )} = - t v_{m} + x_{0} - \\frac{v_{m}^{2}}{a_{0}} \\log{\\left (\\tanh{\\left (\\frac{a_{0} t}{v_{m}} \\right )} - 1 \\right )} + \\frac{v_{m}^{2}}{a_{0}} \\log{\\left (\\tanh{\\left (\\frac{a_{0} t}{v_{m}} \\right )} \\right )}$$"
      ],
      "text/plain": [
       "                        2    ⎛    ⎛a₀⋅t⎞    ⎞      2    ⎛    ⎛a₀⋅t⎞⎞\n",
       "                     v_m ⋅log⎜tanh⎜────⎟ - 1⎟   v_m ⋅log⎜tanh⎜────⎟⎟\n",
       "                             ⎝    ⎝v_m ⎠    ⎠           ⎝    ⎝v_m ⎠⎠\n",
       "x(t) = -t⋅v_m + x₀ - ──────────────────────── + ────────────────────\n",
       "                                a₀                       a₀         "
      ]
     },
     "execution_count": 133,
     "metadata": {},
     "output_type": "execute_result"
    }
   ],
   "source": [
    "res = dsolve(exp, x(t))\n",
    "x0, C1 = symbols(\"x_0 C1\")\n",
    "res = res.subs(C1, x0)\n",
    "res"
   ]
  },
  {
   "cell_type": "code",
   "execution_count": 134,
   "metadata": {
    "collapsed": false
   },
   "outputs": [
    {
     "data": {
      "text/latex": [
       "$$\\left [ \\left \\{ x{\\left (0.05 \\right )} : -23747.8396850203 - 10864.0473094032 i\\right \\}\\right ]$$"
      ],
      "text/plain": [
       "[{x(0.05): -23747.8396850203 - -10864.0473094032⋅(-1)⋅ⅈ}]"
      ]
     },
     "execution_count": 134,
     "metadata": {},
     "output_type": "execute_result"
    }
   ],
   "source": [
    "solving = res.subs(vm, v_m)\n",
    "solving = solving.subs(a0, a_0)\n",
    "solving = solving.subs(t, t_1)\n",
    "solving = solving.subs(x0, 0)\n",
    "solution = solve(solving, numerical=True)\n",
    "solution"
   ]
  },
  {
   "cell_type": "markdown",
   "metadata": {
    "collapsed": false
   },
   "source": [
    "This soloution just looks plane wrong fml"
   ]
  },
  {
   "cell_type": "code",
   "execution_count": null,
   "metadata": {
    "collapsed": false
   },
   "outputs": [],
   "source": []
  }
 ],
 "metadata": {
  "kernelspec": {
   "display_name": "Python 3",
   "language": "python",
   "name": "python3"
  },
  "language_info": {
   "codemirror_mode": {
    "name": "ipython",
    "version": 3
   },
   "file_extension": ".py",
   "mimetype": "text/x-python",
   "name": "python",
   "nbconvert_exporter": "python",
   "pygments_lexer": "ipython3",
   "version": "3.5.1"
  }
 },
 "nbformat": 4,
 "nbformat_minor": 0
}
