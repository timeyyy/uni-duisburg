{
 "cells": [
  {
   "cell_type": "markdown",
   "metadata": {},
   "source": [
    "a)\n",
    "<img src=\"fig12a.png\">\n",
    "\n",
    "b)\n",
    "$$ x_f = x_0 + \\dot{x_0}t + \\frac{1}{2}\\ddot{x}t^2 $$\n",
    "\n",
    "$$ y_f = y_0 + \\dot{y_0}t + \\frac{1}{2}\\ddot{y}t^2 $$\n",
    "\n",
    "c)\n",
    "$$ x_f = x_0 + \\dot{x_0}t + \\frac{1}{2}\\ddot{x}t^2 $$\n",
    "\n",
    "$$ y_f = h_0 + \\dot{y_0}t + \\frac{1}{2}\\ddot{y}t^2 $$\n",
    "\n",
    "d)\n",
    "$$ x_f = v_0cos\\theta_0 t $$\n",
    "\n",
    "where g = -9.81\n",
    "\n",
    "$$ y_f = h_0 + v_0sin\\theta_0 t + \\frac{1}{2}gt^2 $$\n",
    "\n",
    "e) \n",
    "$$\\frac{dy(t)}{dt} = \\dot{y(t)} = v_0cos\\theta_0 + gt $$\n",
    "\n",
    "$$ \\dot{y(t_m)} = 0 = v_0cos\\theta_0 + gt $$\n",
    "\n",
    "$$ t_m = \\frac{-v_0cos\\theta_0}{g} $$\n",
    "\n",
    "substitute $t_m$ into y(t)\n",
    " \n",
    "$$ y(t_m) = h_0 - \\frac{v_0^2sin\\theta_0cos\\theta_0}{g} - \\frac{v_0^2cos^2\\theta_0}{2g}$$\n",
    "\n",
    "f)\n",
    "$$ y(t_b) = 0 = h_0 + v_0sin\\theta_0 t + \\frac{1}{2}gt^2 $$\n",
    "\n",
    "the old Pythagorean theorem\n",
    "\n",
    "$$ t_b = \\frac{-v_0sin\\theta_0 \\pm \\sqrt{v_0^2sin^2\\theta_0 - 2h_0g}}{g} $$\n",
    "\n",
    "g)\n",
    "\n",
    "$$ x_b = x(t_b) = v_0cos\\theta_0(\\frac{-v_0sin\\theta_0 \\pm \\sqrt{v_0^2sin^2\\theta_0 - 2h_0g}}{g}) $$\n",
    "\n",
    "h)\n",
    "cannot really go further analytically so we turn to good old numerics and start stuffing numbers in.\n",
    "\n",
    "**I'm going to go ahead and abuse the power of computers here but it is not required to be able to solve for $v_0$**"
   ]
  },
  {
   "cell_type": "code",
   "execution_count": 1,
   "metadata": {
    "collapsed": false
   },
   "outputs": [],
   "source": [
    "from sympy import *\n",
    "import sympy.physics.units as u\n",
    "u.v = u.m/u.s\n",
    "init_printing()\n",
    "\n",
    "h0_c = 45\n",
    "theta_c = -40\n",
    "xb_c = 50\n",
    "g_c = -9.81\n",
    "\n",
    "xb, v0, theta, h0, g, tb= symbols(\"x_b v_0 theta_0 h_0 g t_b\")"
   ]
  },
  {
   "cell_type": "code",
   "execution_count": 2,
   "metadata": {
    "collapsed": false
   },
   "outputs": [
    {
     "data": {
      "image/png": "[encoded data removed]",
      "text/latex": [
       "$$x_{b} = v_{0} \\left(- \\frac{v_{0}}{g} \\sin{\\left (\\theta_{0} \\right )} + \\frac{1}{g} \\sqrt{- 2 g h_{0} + v_{0}^{2} \\sin^{2}{\\left (\\theta_{0} \\right )}}\\right) \\cos{\\left (\\theta_{0} \\right )}$$"
      ],
      "text/plain": [
       "         ⎛                  ________________________⎞        \n",
       "         ⎜                 ╱             2    2     ⎟        \n",
       "         ⎜  v₀⋅sin(θ₀)   ╲╱  -2⋅g⋅h₀ + v₀ ⋅sin (θ₀) ⎟        \n",
       "x_b = v₀⋅⎜- ────────── + ───────────────────────────⎟⋅cos(θ₀)\n",
       "         ⎝      g                     g             ⎠        "
      ]
     },
     "execution_count": 2,
     "metadata": {},
     "output_type": "execute_result"
    }
   ],
   "source": [
    "part_1 =(v0*cos(theta))\n",
    "part_2 = (-v0*sin(theta))/g\n",
    "part_sqrt = sqrt((v0*sin(theta))**2-(2*h0*g))/g\n",
    "eq_1 = Eq(xb, part_1 * (part_2 + part_sqrt))\n",
    "eq_1"
   ]
  },
  {
   "cell_type": "code",
   "execution_count": 3,
   "metadata": {
    "collapsed": false
   },
   "outputs": [
    {
     "data": {
      "image/png": "[encoded data removed]",
      "text/latex": [
       "$$x_{b} = v_{0} \\left(- \\frac{v_{0}}{g} \\sin{\\left (\\theta_{0} \\right )} - \\frac{1}{g} \\sqrt{- 2 g h_{0} + v_{0}^{2} \\sin^{2}{\\left (\\theta_{0} \\right )}}\\right) \\cos{\\left (\\theta_{0} \\right )}$$"
      ],
      "text/plain": [
       "         ⎛                  ________________________⎞        \n",
       "         ⎜                 ╱             2    2     ⎟        \n",
       "         ⎜  v₀⋅sin(θ₀)   ╲╱  -2⋅g⋅h₀ + v₀ ⋅sin (θ₀) ⎟        \n",
       "x_b = v₀⋅⎜- ────────── - ───────────────────────────⎟⋅cos(θ₀)\n",
       "         ⎝      g                     g             ⎠        "
      ]
     },
     "execution_count": 3,
     "metadata": {},
     "output_type": "execute_result"
    }
   ],
   "source": [
    "eq_2 = Eq(xb, part_1 * (part_2 - part_sqrt))\n",
    "eq_2"
   ]
  },
  {
   "cell_type": "code",
   "execution_count": 4,
   "metadata": {
    "collapsed": false
   },
   "outputs": [
    {
     "data": {
      "image/png": "[encoded data removed]",
      "text/latex": [
       "$$v_{0} = \\frac{16.5326669894388 m}{s}$$"
      ],
      "text/plain": [
       "     16.5326669894388⋅m\n",
       "v₀ = ──────────────────\n",
       "             s         "
      ]
     },
     "execution_count": 4,
     "metadata": {},
     "output_type": "execute_result"
    }
   ],
   "source": [
    "_eq_1 = eq_1.subs(h0, h0_c)\n",
    "_eq_1 = _eq_1.subs(g, g_c)\n",
    "_eq_1 = _eq_1.subs(theta, theta_c)\n",
    "_eq_1 = _eq_1.subs(xb, xb_c)\n",
    "ans_1 = solve(_eq_1, v0)[0]\n",
    "Eq(v0, ans_1*u.v)\n"
   ]
  },
  {
   "cell_type": "code",
   "execution_count": 5,
   "metadata": {
    "collapsed": false,
    "scrolled": true
   },
   "outputs": [
    {
     "data": {
      "image/png": "[encoded data removed]",
      "text/latex": [
       "$$v_{0} = - \\frac{16.5326669894388 m}{s}$$"
      ],
      "text/plain": [
       "     -16.5326669894388⋅m \n",
       "v₀ = ────────────────────\n",
       "              s          "
      ]
     },
     "execution_count": 5,
     "metadata": {},
     "output_type": "execute_result"
    }
   ],
   "source": [
    "_eq_2 = eq_2.subs(h0, h0_c)\n",
    "_eq_2 = _eq_2.subs(g, g_c)\n",
    "_eq_2 = _eq_2.subs(theta, theta_c)\n",
    "_eq_2 = _eq_2.subs(xb, xb_c)\n",
    "_eq_2\n",
    "ans_2 = solve(_eq_2, v0)[0]\n",
    "Eq(v0, ans_2*u.v)"
   ]
  },
  {
   "cell_type": "markdown",
   "metadata": {},
   "source": [
    "\n",
    "\n",
    "** Note: This answer $\\neq$ given answer of $\\approx$ 76.57 given by the tutor...$ This one makes more sense though...**\n",
    "\n",
    "it's important to remember under which domain the function is correct.\n",
    "\n",
    "if $\\theta \\lt 0 \\Rightarrow x_{max} = \\frac{y}{tan\\theta} $ "
   ]
  },
  {
   "cell_type": "markdown",
   "metadata": {},
   "source": [
    "### A bit of curiosity ###\n",
    "\n",
    "So how much work would it take to solve the solution analytically???\n",
    "\n",
    "Lets take a look how long it takes the computer ^^"
   ]
  },
  {
   "cell_type": "code",
   "execution_count": 8,
   "metadata": {
    "collapsed": false,
    "scrolled": true
   },
   "outputs": [
    {
     "name": "stdout",
     "output_type": "stream",
     "text": [
      "Wall time: 2.94 s\n"
     ]
    },
    {
     "data": {
      "image/png": "[encoded data removed]",
      "text/latex": [
       "$$\\left [ - \\sqrt{- \\frac{g x_{b}^{2}}{h_{0} \\cos{\\left (2 \\theta_{0} \\right )} + h_{0} + x_{b} \\sin{\\left (2 \\theta_{0} \\right )}}}, \\quad \\sqrt{- \\frac{g x_{b}^{2}}{h_{0} \\cos{\\left (2 \\theta_{0} \\right )} + h_{0} + x_{b} \\sin{\\left (2 \\theta_{0} \\right )}}}\\right ]$$"
      ],
      "text/plain": [
       "⎡      ___________________________________       _____________________________\n",
       "⎢     ╱                    2                    ╱                    2        \n",
       "⎢    ╱               -g⋅x_b                    ╱               -g⋅x_b         \n",
       "⎢-  ╱   ───────────────────────────────── ,   ╱   ────────────────────────────\n",
       "⎣ ╲╱    h₀⋅cos(2⋅θ₀) + h₀ + x_b⋅sin(2⋅θ₀)   ╲╱    h₀⋅cos(2⋅θ₀) + h₀ + x_b⋅sin(\n",
       "\n",
       "______⎤\n",
       "      ⎥\n",
       "      ⎥\n",
       "───── ⎥\n",
       "2⋅θ₀) ⎦"
      ]
     },
     "execution_count": 8,
     "metadata": {},
     "output_type": "execute_result"
    }
   ],
   "source": [
    "%time sol_1 = solve(eq_1, v0)\n",
    "sol_1"
   ]
  },
  {
   "cell_type": "code",
   "execution_count": 9,
   "metadata": {
    "collapsed": false
   },
   "outputs": [
    {
     "name": "stdout",
     "output_type": "stream",
     "text": [
      "Wall time: 2.79 s\n"
     ]
    },
    {
     "data": {
      "image/png": "[encoded data removed]",
      "text/latex": [
       "$$\\left [ - \\sqrt{- \\frac{g x_{b}^{2}}{h_{0} \\cos{\\left (2 \\theta_{0} \\right )} + h_{0} + x_{b} \\sin{\\left (2 \\theta_{0} \\right )}}}, \\quad \\sqrt{- \\frac{g x_{b}^{2}}{h_{0} \\cos{\\left (2 \\theta_{0} \\right )} + h_{0} + x_{b} \\sin{\\left (2 \\theta_{0} \\right )}}}\\right ]$$"
      ],
      "text/plain": [
       "⎡      ___________________________________       _____________________________\n",
       "⎢     ╱                    2                    ╱                    2        \n",
       "⎢    ╱               -g⋅x_b                    ╱               -g⋅x_b         \n",
       "⎢-  ╱   ───────────────────────────────── ,   ╱   ────────────────────────────\n",
       "⎣ ╲╱    h₀⋅cos(2⋅θ₀) + h₀ + x_b⋅sin(2⋅θ₀)   ╲╱    h₀⋅cos(2⋅θ₀) + h₀ + x_b⋅sin(\n",
       "\n",
       "______⎤\n",
       "      ⎥\n",
       "      ⎥\n",
       "───── ⎥\n",
       "2⋅θ₀) ⎦"
      ]
     },
     "execution_count": 9,
     "metadata": {},
     "output_type": "execute_result"
    }
   ],
   "source": [
    "%time sol_2 = solve(eq_2, v0)\n",
    "sol_2"
   ]
  }
 ],
 "metadata": {
  "kernelspec": {
   "display_name": "Python 3",
   "language": "python",
   "name": "python3"
  },
  "language_info": {
   "codemirror_mode": {
    "name": "ipython",
    "version": 3
   },
   "file_extension": ".py",
   "mimetype": "text/x-python",
   "name": "python",
   "nbconvert_exporter": "python",
   "pygments_lexer": "ipython3",
   "version": "3.5.1"
  }
 },
 "nbformat": 4,
 "nbformat_minor": 0
}
