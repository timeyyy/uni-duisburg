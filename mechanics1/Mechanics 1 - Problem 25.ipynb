{
 "cells": [
  {
   "cell_type": "markdown",
   "metadata": {},
   "source": [
    "<img src=\"img/fig25a.png\">\n",
    "\n",
    "### find $ \\alpha $)\n",
    "\n",
    "$$ ma = T - mg $$\n",
    "\n",
    "$$ \\alpha = \\frac{Fr}{I} = \\frac{Tr}{I} $$\n",
    "\n",
    "$$ \\alpha = \\frac{m(a+g)r}{I} $$\n",
    "\n",
    "$$ v_t = \\omega r $$\n",
    "\n",
    "$$ a_t = \\alpha r $$\n",
    "\n",
    "$$ \\alpha = \\frac{m(\\alpha r+g)r}{I} $$\n",
    "\n",
    "$$ \\alpha = \\frac{mgr}{I-mr^2} $$\n",
    "\n",
    "### find $ a $)\n",
    "\n",
    "$$a = \\frac{mgr^2}{I-mr^2} $$\n",
    "\n",
    "### find $T$)\n",
    "\n",
    "$$T = \\frac{I\\alpha}{r} $$ \n",
    "\n",
    "$$ T = \\frac{Ig}{\\frac{I}{m} - r^2} $$"
   ]
  }
 ],
 "metadata": {
  "kernelspec": {
   "display_name": "Python 3",
   "language": "python",
   "name": "python3"
  },
  "language_info": {
   "codemirror_mode": {
    "name": "ipython",
    "version": 3
   },
   "file_extension": ".py",
   "mimetype": "text/x-python",
   "name": "python",
   "nbconvert_exporter": "python",
   "pygments_lexer": "ipython3",
   "version": "3.4.3"
  }
 },
 "nbformat": 4,
 "nbformat_minor": 0
}
