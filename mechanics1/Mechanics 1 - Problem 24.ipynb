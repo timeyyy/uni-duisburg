{
 "cells": [
  {
   "cell_type": "markdown",
   "metadata": {},
   "source": [
    "<img src=\"img/fig24a.png\">\n"
   ]
  },
  {
   "cell_type": "markdown",
   "metadata": {},
   "source": [
    "from newtons 3rd law\n",
    "\n",
    "$$  T_1 = T_2 = T_3 $$\n",
    "\n",
    "newtons 2nd law\n",
    "\n",
    "$$ m_1a_1 = -2T + m_1gsin\\phi_1 $$\n",
    "\n",
    "$$ m_2a_2 = T-m_2gsin\\phi_2 $$\n",
    "\n",
    "Unfortuntley we have 2 equations but 3 unknowns... BUT! common sense tells us that $ a_2 = 2a_1 $\n",
    "\n",
    "we also get this result using the same method from Problem 23\n",
    "\n",
    "### Solving\n",
    "\n",
    "$$ T = \\frac{m_1m_2}{m_1+4m_2}g(2sin\\phi_1 + sin\\phi_2) $$\n",
    "\n",
    "$$ a_1 = g(\\frac{m_1sin\\phi_1 - 2m_2sin\\phi_2}{m_1+4m_2}) $$"
   ]
  }
 ],
 "metadata": {
  "kernelspec": {
   "display_name": "Python 3",
   "language": "python",
   "name": "python3"
  },
  "language_info": {
   "codemirror_mode": {
    "name": "ipython",
    "version": 3
   },
   "file_extension": ".py",
   "mimetype": "text/x-python",
   "name": "python",
   "nbconvert_exporter": "python",
   "pygments_lexer": "ipython3",
   "version": "3.5.1"
  }
 },
 "nbformat": 4,
 "nbformat_minor": 0
}
