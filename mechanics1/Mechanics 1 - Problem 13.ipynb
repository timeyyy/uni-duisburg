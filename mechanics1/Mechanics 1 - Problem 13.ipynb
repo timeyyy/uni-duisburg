{
 "cells": [
  {
   "cell_type": "markdown",
   "metadata": {},
   "source": [
    "# a)#\n",
    "$$ x(t) = x_0 + \\dot{x_0}sin{\\beta}t $$\n",
    "\n",
    "$$ y(t) = y_0 + \\dot{y_0}cos{\\beta}t + \\frac{1}{2}gt^2 $$\n",
    "\n",
    "# b)#\n",
    "\n",
    "$$ t_1 = t_{up} + t_{down} $$\n",
    "\n",
    "$$y(t_1) = y(t_u) - y(t_d) $$\n",
    "\n",
    "$$  x(t_1) = x(t_u) + x(t_d) $$\n",
    "\n",
    "$$ x(t_1) = \\frac{y(t_1)}{tan(\\alpha)} $$\n",
    "\n",
    "$$ x(t_u) + x(t_d) = \\frac{y(t_u) - y(t_d)}{tan(\\alpha)} $$\n",
    "\n",
    "(1) $$ x(t_d) + \\frac{y(t_d)}{tan(\\alpha)} = \\frac{y(t_u)}{tan(\\alpha)} - x(t_u) $$\n",
    "\n",
    "$$ \\dot{y}(t_u) = 0 = \\dot{-y_0}sin{\\beta}+gt_u  $$\n",
    "\n",
    "$$ t_u = \\frac{\\dot{y}_0sin{\\beta}}{g} $$\n",
    "\n",
    "$$ y(t_u) = \\dot{y}_0cos{\\beta}t_u + \\frac{1}{2}gt_u^2 $$\n",
    "\n",
    "$$ y(t_u) = \\dot{y_0}cos{\\beta}\\frac{\\dot{y_0}sin{\\beta}}{g} + \\frac{1}{2}g(\\frac{\\dot{y_0}sin{\\beta}}{g})^2 $$\n",
    "\n",
    "$$ x(t_u) = x_0 + \\dot{x}_0sin{\\beta}t_u $$\n",
    "\n",
    "$$ x(t_u) = \\dot{x}_0\\frac{\\dot{y_0}sin^2{\\beta}}{g} $$\n",
    "\n",
    "$$  x(t_d) = \\dot{x}_0sin{\\beta}t_d $$\n",
    "\n",
    "$$ y(t_d) = \\dot{y_0}cos{\\beta}t_d + \\frac{1}{2}gt_d^2 $$\n",
    "\n",
    "All into (1)\n",
    "\n",
    "$$ (\\dot{x}_0sin{\\beta}t_d) + \\frac{(\\dot{y}_0cos{\\beta}t_d + \\frac{1}{2}gt_d^2)}{tan(\\alpha)} = \\frac{(\\dot{y}_0cos{\\beta}\\frac{\\dot{y_0}sin{\\beta}}{g} + \\frac{1}{2}g(\\frac{\\dot{y}_0sin{\\beta}}{g})^2)}{tan(\\alpha)} - (\\dot{x}_0\\frac{\\dot{y_0}sin^2{\\beta}}{g}) $$\n",
    "\n",
    "$$ \\frac{({\\dot{x}_0sin{\\beta}t_d})+(\\dot{y}_0cos{\\beta}t_d + \\frac{1}{2}gt_d^2)}{tan(\\alpha)} = \\frac{(\\dot{y}_0cos{\\beta}\\frac{\\dot{y_0}sin{\\beta}}{g} + \\frac{1}{2}g(\\frac{\\dot{y}_0sin{\\beta}}{g})^2)}{tan(\\alpha)} - (\\dot{x}_0\\frac{\\dot{y_0}sin^2{\\beta}}{g}) $$\n",
    "\n",
    "$$ \\frac{t_d({\\dot{x}_0sin{\\beta}}+\\dot{y}_0cos{\\beta}) + \\frac{1}{2}gt_d^2}{tan(\\alpha)} = \\frac{(\\dot{y}_0cos{\\beta}\\frac{\\dot{y_0}sin{\\beta}}{g} + \\frac{1}{2}g(\\frac{\\dot{y}_0sin{\\beta}}{g})^2)}{tan(\\alpha)} - (\\dot{x}_0\\frac{\\dot{y_0}sin^2{\\beta}}{g}) $$\n",
    "\n",
    "$$ t_d({\\dot{x}_0sin{\\beta}}+\\dot{y}_0cos{\\beta}) + \\frac{1}{2}gt_d^2 = (\\dot{y}_0cos{\\beta}\\frac{\\dot{y_0}sin{\\beta}}{g} + \\frac{1}{2}g(\\frac{\\dot{y}_0sin{\\beta}}{g})^2) - tan(\\alpha)\\frac{\\dot{y_0}sin^2{\\beta}}{g} $$\n",
    "\n",
    "$$ \\frac{1}{2}gt_d^2  + t_d({\\dot{x}_0sin{\\beta}}+\\dot{y}_0cos{\\beta}) - (\\dot{y}_0cos{\\beta}\\frac{\\dot{y_0}sin{\\beta}}{g} + \\frac{1}{2}g(\\frac{\\dot{y}_0sin{\\beta}}{g})^2) + tan(\\alpha)\\frac{\\dot{y_0}sin^2{\\beta}}{g} = 0 $$\n",
    "\n",
    "Quadriatic formula time?"
   ]
  }
 ],
 "metadata": {
  "kernelspec": {
   "display_name": "Python 3",
   "language": "python",
   "name": "python3"
  },
  "language_info": {
   "codemirror_mode": {
    "name": "ipython",
    "version": 3
   },
   "file_extension": ".py",
   "mimetype": "text/x-python",
   "name": "python",
   "nbconvert_exporter": "python",
   "pygments_lexer": "ipython3",
   "version": "3.5.1"
  }
 },
 "nbformat": 4,
 "nbformat_minor": 0
}
