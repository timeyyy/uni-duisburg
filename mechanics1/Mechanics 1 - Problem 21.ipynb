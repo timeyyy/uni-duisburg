{
 "cells": [
  {
   "cell_type": "markdown",
   "metadata": {},
   "source": [
    "<img src=\"img/fig21a.png\">\n",
    "\n",
    "for body $ \\alpha $\n",
    "\n",
    "$$ \\sum F_x = 0 = A_x -C_x + T $$\n",
    "\n",
    "$$ \\sum F_y = 0 = A_y - C_y $$\n",
    "\n",
    "$$ \\sum M_a = 0 = 2RC_x -2RC_y -3RT $$\n",
    "\n",
    "for body $ \\beta $\n",
    "\n",
    "$$ \\sum F_x = 0 = B_x + C_x + D_x $$\n",
    "\n",
    "$$ \\sum F_y = 0 = B_y + C_y + D_y $$\n",
    "\n",
    "$$ \\sum M_c = 0 = 2RC_y + 5RD_y $$\n",
    "\n",
    "for body $ \\gamma $\n",
    "\n",
    "$$ \\sum F_x = 0 = -D_x - T $$\n",
    "\n",
    "$$ \\sum F_y = 0 = -F -D_y $$\n",
    "\n",
    "$$ \\sum M_a = 0 = RT - FR $$\n",
    "\n",
    "#### Results\n",
    "\n",
    "$$ A_x = 3F $$\n",
    "\n",
    "$$ A_y = 2.5F $$\n",
    "\n",
    "$$ B_x = -3F $$\n",
    "\n",
    "$$ B_y = -1.5F $$\n",
    "\n",
    "$$ C_x =  4F$$\n",
    "\n",
    "$$ C_y = 2.5F $$\n",
    "\n",
    "$$ D_x = -F $$\n",
    "\n",
    "$$ D_y = -F $$"
   ]
  }
 ],
 "metadata": {
  "kernelspec": {
   "display_name": "Python 3",
   "language": "python",
   "name": "python3"
  },
  "language_info": {
   "codemirror_mode": {
    "name": "ipython",
    "version": 3
   },
   "file_extension": ".py",
   "mimetype": "text/x-python",
   "name": "python",
   "nbconvert_exporter": "python",
   "pygments_lexer": "ipython3",
   "version": "3.4.3"
  }
 },
 "nbformat": 4,
 "nbformat_minor": 0
}
