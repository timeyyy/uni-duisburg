{
 "cells": [
  {
   "cell_type": "markdown",
   "metadata": {},
   "source": [
    "$$ \\sum M = I \\alpha $$\n",
    "\n",
    "$$ I = \\frac{MX^2}{12} + M\\epsilon^2L^2 = L^2m(\\frac{1}{3} + \\epsilon^2) $$\n",
    "\n",
    "If anti clockwise = +\n",
    "\n",
    "$$ \\sum M = cos\\phi mg \\epsilon L $$\n",
    "\n",
    "$$ \\alpha = \\frac{\\epsilon g}{(\\frac{1}{3}+\\epsilon^2)L}cos\\phi  $$\n",
    "\n",
    "$$ \\frac{d\\dot{\\theta}}{dt} = \\alpha $$\n",
    "\n",
    "Torque is not constant so and so neither is our $\\alpha$\n",
    "\n",
    "$$ \\int{d\\dot{\\theta}} = \\frac{\\epsilon g}{(\\frac{1}{3}+\\epsilon^2)L} \\int{cos\\phi(t) dt} $$\n",
    "\n",
    "$$ u = \\phi(dt) $$\n",
    "\n",
    "$$ dt = \\frac{du}{\\dot{\\phi}} $$\n",
    "\n",
    "$$ \\int{\\dot{\\phi}d\\dot{\\theta}} = \\frac{\\epsilon g}{(\\frac{1}{3}+\\epsilon^2)L} \\int{cos(u) du} $$\n",
    "\n",
    "$$ \\dot{\\phi} = \\sqrt{\\frac{2g\\epsilon }{(\\frac{1}{3}+\\epsilon^2)L}sin\\phi} $$\n",
    "\n",
    "b) already done above\n",
    "\n",
    "c) $$ N = mgcos \\alpha$$"
   ]
  }
 ],
 "metadata": {
  "kernelspec": {
   "display_name": "Python 3",
   "language": "python",
   "name": "python3"
  },
  "language_info": {
   "codemirror_mode": {
    "name": "ipython",
    "version": 3
   },
   "file_extension": ".py",
   "mimetype": "text/x-python",
   "name": "python",
   "nbconvert_exporter": "python",
   "pygments_lexer": "ipython3",
   "version": "3.4.3"
  }
 },
 "nbformat": 4,
 "nbformat_minor": 0
}
