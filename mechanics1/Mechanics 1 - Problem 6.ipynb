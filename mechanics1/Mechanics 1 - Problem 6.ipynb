{
 "cells": [
  {
   "cell_type": "markdown",
   "metadata": {},
   "source": [
    "### a) ###\n",
    "\n",
    "$$ \\bar{v} = \\frac{s_t}{t_t} $$\n",
    "\n",
    "$$ t_t = t_d + t_u $$\n",
    "\n",
    "(1)\n",
    "\n",
    "$$\\bar{v} = \\frac{2s}{t_u + t_d} $$\n",
    "\n",
    "The trick to solving a), is to realize problem b doesn't require t or s, so our goal is to eliminate them \n",
    "\n",
    "$$ v_d = v_b + v_s $$\n",
    "$$ s_d = (v_b + v_s)t_d $$\n",
    "\n",
    "$$ v_u = v_b - v_s $$\n",
    "$$ s_u = (v_b - v_s)t_u $$\n",
    "\n",
    "We solve (1) for td and tu $$ t_u = \\frac{s}{v_b-v_s}, t_d = \\frac{s}{v_b+v_s}  $$\n",
    "\n",
    "Now all we need to do is substitue them into (1)\n",
    "\n",
    "$$ \\bar{v} = \\frac{2s}{\\frac{s}{v_b+v_s} + \\frac{s}{v_b-v_s}}  $$\n",
    "\n",
    "$$ \\bar{v} = \\frac{2s}{\\frac{s(v_b-v_s + v_b+v_s)}{v_b^2-v_s^2}}  $$\n",
    "\n",
    "$$ \\bar{v} = \\frac{2s}{\\frac{s(v_b-v_s + v_b+v_s)}{v_b^2-v_s^2}}  $$\n",
    "\n",
    "$$ \\bar{v} = \\frac{v_b^2-v_s^2}{v_b}  $$\n",
    "\n",
    "### b) ###\n",
    "\n",
    "$$ v_s = \\sqrt{v_b^2 -\\bar{v}v_b} $$"
   ]
  },
  {
   "cell_type": "code",
   "execution_count": 22,
   "metadata": {
    "collapsed": false
   },
   "outputs": [
    {
     "data": {
      "text/latex": [
       "$$v_{s} = \\frac{4.116 m}{s}$$"
      ],
      "text/plain": [
       "      4.116⋅m\n",
       "v_s = ───────\n",
       "         s   "
      ]
     },
     "execution_count": 22,
     "metadata": {},
     "output_type": "execute_result"
    }
   ],
   "source": [
    "from sympy import *\n",
    "import sympy.physics.units as u\n",
    "init_printing(use_latex='mathjax')\n",
    "knots_to_si = 1.852/3.6\n",
    "v, vb, vs, = symbols(\"v v_b v_s \")\n",
    "\n",
    "vavg_c = 12 * knots_to_si\n",
    "vb_c = 16 * knots_to_si\n",
    "\n",
    "eq = Eq(vs, sqrt(vb**2-(v*vb)))\n",
    "eq = eq.subs(vb, vb_c)\n",
    "eq = eq.subs(v, vavg_c)\n",
    "Eq(vs, round(eq.args[1], 3)*u.m/u.s)\n",
    "\n"
   ]
  }
 ],
 "metadata": {
  "kernelspec": {
   "display_name": "Python 3",
   "language": "python",
   "name": "python3"
  },
  "language_info": {
   "codemirror_mode": {
    "name": "ipython",
    "version": 3
   },
   "file_extension": ".py",
   "mimetype": "text/x-python",
   "name": "python",
   "nbconvert_exporter": "python",
   "pygments_lexer": "ipython3",
   "version": "3.5.1"
  }
 },
 "nbformat": 4,
 "nbformat_minor": 0
}
