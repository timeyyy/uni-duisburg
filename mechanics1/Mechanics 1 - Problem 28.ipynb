{
 "cells": [
  {
   "cell_type": "markdown",
   "metadata": {},
   "source": [
    "$$ v_p = v_s + v_{tangential} $$\n",
    "\n",
    "$$ v_{t} = \\omega \\times r $$\n",
    "\n",
    "Using the right handed reference frame\n",
    "\n",
    "$$ v_s = \\left[\\begin{array}{c}v_s\\\\0\\\\0\\end{array}\\right] $$\n",
    "\n",
    "$$ v_{t} = \\left[\\begin{array}{c}0\\\\0\\\\-\\omega\\end{array}\\right]\n",
    "\\times\n",
    "-r\\left[\\begin{array}{c}sin\\phi\\\\cos\\phi\\\\0\\end{array}\\right]$$\n",
    "\n",
    "$$ v_{t} = \\alpha r\\left[\\begin{array}{c}-cos\\phi\\\\sin\\phi\\\\0\\end{array}\\right] $$\n",
    "\n",
    "$$ a_{t} = \\frac{dv_p}{dt} $$\n",
    "\n",
    "$$ a_{r} = \\left[\\begin{array}{c}a_s\\\\0\\\\0\\end{array}\\right] +\n",
    "r\\left[\\begin{array}{c}-\\alpha cos\\phi + \\omega^2 sin\\phi\\\\\\alpha sin\\phi + \\omega^2 cos\\phi\\\\0\\end{array}\\right]$$"
   ]
  }
 ],
 "metadata": {
  "kernelspec": {
   "display_name": "Python 3",
   "language": "python",
   "name": "python3"
  },
  "language_info": {
   "codemirror_mode": {
    "name": "ipython",
    "version": 3
   },
   "file_extension": ".py",
   "mimetype": "text/x-python",
   "name": "python",
   "nbconvert_exporter": "python",
   "pygments_lexer": "ipython3",
   "version": "3.4.3"
  }
 },
 "nbformat": 4,
 "nbformat_minor": 0
}
