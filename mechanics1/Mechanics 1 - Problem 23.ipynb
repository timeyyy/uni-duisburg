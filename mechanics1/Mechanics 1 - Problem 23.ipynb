{
 "cells": [
  {
   "cell_type": "markdown",
   "metadata": {},
   "source": [
    "<img src=\"img/fig23a.png\">\n",
    "\n",
    "#### Eulers Law\n",
    "\n",
    "as our pulleys are massless $I = 0$ so\n",
    "\n",
    "body 1\n",
    "\n",
    "$$ 0 = r_1(R_2 - R_1) $$\n",
    "\n",
    "body 2 \n",
    "\n",
    "$$ 0 = r_2(R_2 - R_3) $$\n",
    "\n",
    "and so\n",
    "\n",
    "$$ R = R_1 = R_2 = R_3 $$\n",
    "\n",
    "#### Newtons Laws\n",
    "\n",
    "$$ m_1a_1 = m_1g - 2R $$\n",
    "\n",
    "$$ m_2a_2 = -m_2g + R $$\n",
    "\n",
    "#### Kinematic Relations\n",
    "\n",
    "[ICR](https://en.wikipedia.org/wiki/Instant_centre_of_rotation) see figure (in orange)\n",
    "\n",
    "$$ v_1 = \\omega r_1 $$\n",
    "\n",
    "$$ v_2 = \\omega 2r_1 $$\n",
    "\n",
    "$$ \\omega = \\frac{v_1}{r_1} = \\frac{v_2}{2r_1} $$\n",
    "\n",
    "$$ v_2 = 2v_1 $$\n",
    "\n",
    "$$ a_2 = 2a_1 $$\n",
    "\n",
    "solving newtons laws for R\n",
    "\n",
    "$$ R = \\frac{3gm_1m_2}{4m_2+m_1} $$\n",
    "\n",
    "and now the accelerations\n",
    "\n",
    "$$ a_1 = \\frac{m_1 - 2m_2}{4m_2 + m_1}g $$\n",
    "\n",
    "$$ a_2 = \\frac{2m_1-4m_2}{4m_2 + m_1}g$$\n",
    "\n",
    "\n",
    "\n"
   ]
  }
 ],
 "metadata": {
  "kernelspec": {
   "display_name": "Python 3",
   "language": "python",
   "name": "python3"
  },
  "language_info": {
   "codemirror_mode": {
    "name": "ipython",
    "version": 3
   },
   "file_extension": ".py",
   "mimetype": "text/x-python",
   "name": "python",
   "nbconvert_exporter": "python",
   "pygments_lexer": "ipython3",
   "version": "3.4.3"
  }
 },
 "nbformat": 4,
 "nbformat_minor": 0
}
