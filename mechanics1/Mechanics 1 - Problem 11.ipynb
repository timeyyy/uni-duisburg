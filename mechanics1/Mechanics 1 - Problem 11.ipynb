{
 "cells": [
  {
   "cell_type": "markdown",
   "metadata": {},
   "source": [
    "We make the assumption that the acceleration is constant.\n",
    "\n",
    "a) $$ t_3 = t_1 + t_2 $$\n",
    "\n",
    "### Acceration ###\n",
    "$$ \\int_{v_0=v_0}^{v_1=v_m}dv = a_m\\int_{t_0=0}^{t_1}dt $$\n",
    "\n",
    "$$ t_1 = \\frac{v_m}{a_m} $$\n",
    "\n",
    "\n",
    "$$ \\int_{v_0=0}^{v_1=v_m}dv = a_m\\int_{s_0=0}^{s}ds $$\n",
    "\n",
    "$$ s_1 = \\frac{v_m^2}{2a_m} $$\n",
    "\n",
    "### Cruising ###\n",
    "$$ \\int_{s_1}^{s_2}ds = v\\int_{t_1}^{t_2}dt $$\n",
    "\n",
    "$$ s_2 = v_m(t_2 - t_1) + s_1 $$\n",
    "\n",
    "$$ t_2 = \\frac{s_2 - s_1}{v_m} + t_1$$\n",
    "\n",
    "### Deceleration ###\n",
    "$$ \\int_{v_2=v_m}^{v_3=0}dv = a_m\\int_{t_2}^{t_3} dt$$\n",
    "\n",
    "$$t_3 = t_2 + \\frac{v_m}{a_m} $$\n",
    "\n",
    "\n",
    "All thats required is some substitution at this stage...\n",
    "\n",
    "$$ t_3 = \\frac{v_m}{a_m} + \\frac{s_3}{v_m}$$\n"
   ]
  },
  {
   "cell_type": "code",
   "execution_count": 7,
   "metadata": {
    "collapsed": false
   },
   "outputs": [
    {
     "name": "stdout",
     "output_type": "stream",
     "text": [
      "Time: 7.5 minutes\n"
     ]
    }
   ],
   "source": [
    "vm = 90 / 3.6\n",
    "am = 0.5\n",
    "s3 = 10000\n",
    "\n",
    "t = (vm/am) + (s3/vm)\n",
    "print('Time: {0} minutes'.format(t/60) )\n"
   ]
  }
 ],
 "metadata": {
  "kernelspec": {
   "display_name": "Python 3",
   "language": "python",
   "name": "python3"
  },
  "language_info": {
   "codemirror_mode": {
    "name": "ipython",
    "version": 3
   },
   "file_extension": ".py",
   "mimetype": "text/x-python",
   "name": "python",
   "nbconvert_exporter": "python",
   "pygments_lexer": "ipython3",
   "version": "3.5.1"
  }
 },
 "nbformat": 4,
 "nbformat_minor": 0
}
