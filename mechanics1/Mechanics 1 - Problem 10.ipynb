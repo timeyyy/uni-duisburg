{
 "cells": [
  {
   "cell_type": "markdown",
   "metadata": {},
   "source": [
    "### Exercise Problem 10: Train ### \n",
    "\n",
    "Exactly the same as number 7... \n",
    "\n",
    "### a) Compute the acceleration of the train ### \n",
    "\n",
    "$$ a = \\frac{dv}{dt} $$\n",
    "\n",
    "$$ a\\int{dt} = \\int{dv} $$\n",
    "\n",
    "$$ a = \\frac{v_f}{t} = \\frac{250}{5*60*3.6} \\approx 0.23 m/s^2 $$\n",
    "\n",
    "### b) overall distance covered by the train ### \n",
    "\n",
    "$$ v = \\frac{dx}{dt} $$\n",
    "\n",
    "$$ \\frac{dv}{a} = \\frac{dx}{v} $$\n",
    "\n",
    "$$ \\int_{v_0=0}^{v_1}{v} = a\\int_{x_0=0}^{x_1}{dx} $$ \n",
    "\n",
    "$$ x_1 = \\frac{v_1^2}{2a} $$\n",
    "\n",
    "$$ x_f = x_1 + x_d = \\frac{v_1^2}{2a} + x_d$$\n",
    "\n",
    "$$ x_f = \\frac{v_1t}{2} + x_d = \\frac{250*5 * 60}{2*3.6} + 5000m \\approx 15417m $$\n",
    "\n",
    "### c) time required ###\n",
    "\n",
    "$$ t_t = 5*60 + t_{decel} $$\n",
    "\n",
    "$$ a\\int{dt} = \\int{dv} $$\n",
    "\n",
    "$$ t_d = \\frac{-v_0}{a}$$\n",
    "\n",
    "$$ a\\int{dx} = v\\int{dv} $$\n",
    "\n",
    "$$ a = \\frac{-v_0^2}{2x} $$\n",
    "\n",
    "$$ t_d = \\frac{2x}{-v_0}  = \\frac{2*5000*3.6}{250} = 144s$$\n",
    "\n",
    "$$ t_t = 444s $$\n"
   ]
  }
 ],
 "metadata": {
  "kernelspec": {
   "display_name": "Python 3",
   "language": "python",
   "name": "python3"
  },
  "language_info": {
   "codemirror_mode": {
    "name": "ipython",
    "version": 3
   },
   "file_extension": ".py",
   "mimetype": "text/x-python",
   "name": "python",
   "nbconvert_exporter": "python",
   "pygments_lexer": "ipython3",
   "version": "3.4.3"
  }
 },
 "nbformat": 4,
 "nbformat_minor": 0
}
