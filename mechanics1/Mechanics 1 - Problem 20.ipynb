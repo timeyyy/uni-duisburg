{
 "cells": [
  {
   "cell_type": "markdown",
   "metadata": {
    "collapsed": true
   },
   "source": [
    "### a)\n",
    "<img src=\"img/fig20a.png\">\n",
    "\n",
    "### b)\n",
    "\n",
    "$$ F_g = mg $$\n",
    "\n",
    "##### Body A\n",
    "\n",
    "(1) $$ \\sum F_x  = 0 = T_2 + R_x $$ \n",
    "\n",
    "(2) $$ \\sum F_y  = 0 = T_1 + R_y - mg $$ \n",
    "\n",
    "(3) $$ \\sum \\tau = 0 = T_1a -\\frac{2}{3}amg $$\n",
    "\n",
    "##### Body B\n",
    "\n",
    "$$ \\sum \\tau = 0 = \\ T_1r - T_3r $$\n",
    "\n",
    "##### Body C\n",
    "\n",
    "$$ \\sum \\tau = 0 = \\ T_3r - T_2r $$\n",
    "\n",
    "From the moments\n",
    "\n",
    "$$ T_1 = T_2 = T_3 $$\n",
    "\n",
    "Solving (3) for T and inserting into (1) and (2)\n",
    "\n",
    "$$ R_x = -\\frac{2}{3}mg $$\n",
    "\n",
    "$$ R_y = mg-\\frac{2}{3}mg = \\frac{1}{3}mg $$"
   ]
  }
 ],
 "metadata": {
  "kernelspec": {
   "display_name": "Python 3",
   "language": "python",
   "name": "python3"
  },
  "language_info": {
   "codemirror_mode": {
    "name": "ipython",
    "version": 3
   },
   "file_extension": ".py",
   "mimetype": "text/x-python",
   "name": "python",
   "nbconvert_exporter": "python",
   "pygments_lexer": "ipython3",
   "version": "3.5.1"
  }
 },
 "nbformat": 4,
 "nbformat_minor": 0
}
