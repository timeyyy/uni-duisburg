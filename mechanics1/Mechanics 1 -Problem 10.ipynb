{
 "cells": [
  {
   "cell_type": "markdown",
   "metadata": {},
   "source": [
    "### Exercise Problem 10: Train ### \n",
    "A passenger train reaches a speed of $v_1=250 km/h$ by uniform acceleration within 5 minutes. At this speed the train’s breaking distance is $s_2 = 5km$\n",
    "\n",
    "(a) Compute the acceleration of the train\n",
    "\n",
    "Note: We are dealing with constant acceleration so we could use all those juicy high school formulas...\n",
    "\n",
    "$$ a = \\frac{dv}{dt} $$\n",
    "\n",
    "This aint going to help us we have no t... lets get rid of it\n",
    "\n",
    "$$ v = \\frac{dx}{dt} $$\n",
    "\n",
    "$$ \\frac{dv}{a} = \\frac{dx}{v} $$\n",
    "\n",
    "$$ \\int{vdv} = \\int{a dx} $$\n",
    "\n",
    "$$ \\frac{v_f^2 - v_0^2}{2} = ax $$\n",
    "\n",
    "$$ a(x) = \\frac{v_f^2-v_0^2}{2x} $$\n",
    "\n",
    "Now lets get that result"
   ]
  },
  {
   "cell_type": "code",
   "execution_count": 9,
   "metadata": {
    "collapsed": true
   },
   "outputs": [],
   "source": [
    "# setting up our programming backend..\n",
    "from sympy import *\n",
    "init_printing(use_latex='mathjax')\n"
   ]
  },
  {
   "cell_type": "code",
   "execution_count": 28,
   "metadata": {
    "collapsed": false
   },
   "outputs": [
    {
     "data": {
      "text/latex": [
       "$$a{\\left (5000 \\right )} = 0.482253086419753$$"
      ],
      "text/plain": [
       "a(5000) = 0.482253086419753"
      ]
     },
     "execution_count": 28,
     "metadata": {},
     "output_type": "execute_result"
    }
   ],
   "source": [
    "vf_c = 250/3.6\n",
    "t_c = 5*60\n",
    "s2_c = 5000\n",
    "\n",
    "a = Function('a')\n",
    "vf, v0, t, x = symbols('v_f v_0 t x')\n",
    "equation = Eq(a(x), (vf**2-v0**2)/(2*x))\n",
    "tmp = equation.subs(v0, 0)\n",
    "tmp = tmp.subs(vf, vf_c)\n",
    "tmp = tmp.subs(x, s2_c)\n",
    "tmp\n"
   ]
  }
 ],
 "metadata": {
  "kernelspec": {
   "display_name": "Python 3",
   "language": "python",
   "name": "python3"
  },
  "language_info": {
   "codemirror_mode": {
    "name": "ipython",
    "version": 3
   },
   "file_extension": ".py",
   "mimetype": "text/x-python",
   "name": "python",
   "nbconvert_exporter": "python",
   "pygments_lexer": "ipython3",
   "version": "3.5.1"
  }
 },
 "nbformat": 4,
 "nbformat_minor": 0
}
