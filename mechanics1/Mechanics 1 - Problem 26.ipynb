{
 "cells": [
  {
   "cell_type": "markdown",
   "metadata": {},
   "source": [
    "### a)\n",
    "\n",
    "$$ \\sum F_e = \\sum m_i\\ddot{r}_i $$\n",
    "\n",
    "$$ \\sum F_{internal} = 0 $$\n",
    "\n",
    "$$ m_p\\ddot{r_p} + m_s\\ddot{r_s} + m\\ddot{r_{st}} = N + G_p + G_s + G_{st} $$\n",
    "\n",
    "$$\\ddot{r_p} = \\ddot{r_s} $$\n",
    "\n",
    "$$\n",
    "m_p+m_s\\left[\\begin{array}{c}\\ddot{r_s}\\\\0\\end{array}\\right]\n",
    "+ m\\left[\\begin{array}{c}\\ddot{r_{st}x}\\\\\\ddot{r_{st}y}\\end{array}\\right]\n",
    "= \\left[\\begin{array}{c}0\\\\N\\end{array}\\right]\n",
    "+ \\left[\\begin{array}{c}0\\\\-m_pg\\end{array}\\right]\n",
    "+ \\left[\\begin{array}{c}0\\\\-m_sg\\end{array}\\right]\n",
    "+ \\left[\\begin{array}{c}0\\\\-mg\\end{array}\\right]\n",
    "$$\n",
    "\n",
    "### b)\n",
    "\n",
    "$$ \\sum F_i = 0 $$\n",
    "\n",
    "$$ (m_p + m_s)\\ddot{r_s} + m\\ddot{r_{st}} = 0 $$\n",
    "\n",
    "$$ (m_p + m_s)\\frac{dv_s}{dt} + m\\frac{d\\dot{x}_{st}}{dt} = 0 $$\n",
    "\n",
    "$$ (m_p + m_s)v_s + mv_0cos\\phi = 0$$\n",
    "\n",
    "$$ v_s = \\frac{-m}{m_p + m_s} v_0cos\\phi $$"
   ]
  }
 ],
 "metadata": {
  "kernelspec": {
   "display_name": "Python 3",
   "language": "python",
   "name": "python3"
  },
  "language_info": {
   "codemirror_mode": {
    "name": "ipython",
    "version": 3
   },
   "file_extension": ".py",
   "mimetype": "text/x-python",
   "name": "python",
   "nbconvert_exporter": "python",
   "pygments_lexer": "ipython3",
   "version": "3.4.3"
  }
 },
 "nbformat": 4,
 "nbformat_minor": 0
}
