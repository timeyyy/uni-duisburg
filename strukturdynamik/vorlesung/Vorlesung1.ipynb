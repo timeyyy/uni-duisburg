{
 "cells": [
  {
   "cell_type": "markdown",
   "metadata": {
    "collapsed": true
   },
   "source": [
    "<img src='img/fig1.png'>"
   ]
  },
  {
   "cell_type": "markdown",
   "metadata": {},
   "source": [
    "Force produced by a spring\n",
    "$$ F_v = k \\cdot \\Delta l_0 $$\n",
    "\n",
    "$$ k = Federkonstant \\frac{N}{m} = \\frac{kg}{s^2} $$\n",
    "\n",
    "$$ \\Delta l_0 = längänderung $$\n",
    "\n",
    "\n",
    "$$ \\sum F_y = F_v -mg = 0 $$\n",
    "\n",
    "<h3 align=\"center\">Static</h3> \n",
    "\n",
    "Equation 1\n",
    "\n",
    "$$ F_v = k\\Delta l_0 $$\n",
    "\n",
    "$$ Federkraft: F_F = k \\cdot(\\Delta l_0  + x) $$\n",
    "\n",
    "<h3 align=\"center\">Dynamic</h3> \n",
    "\n",
    "Equation 2\n",
    "    \n",
    "Impulssatz (principle of linear momentum)\n",
    "\n",
    "$$  m \\cdot \\ddot x = mg - k \\cdot \\Delta  l_0 - kx $$\n",
    "\n",
    "<center>gewichtskraft - vorspannkraft - ruckstellkraft</center>\n"
   ]
  },
  {
   "cell_type": "markdown",
   "metadata": {},
   "source": [
    "** Merke **\n",
    "\n",
    "Bei auslenkung aus der gleichsgewicht lage, heben sich die gewichtskraft und die Vorrspannkraft der ferder auf so $m\\ddot x = -kx$\n",
    "\n",
    "(1) in (2)"
   ]
  },
  {
   "cell_type": "markdown",
   "metadata": {},
   "source": [
    "$$ \\ddot x + \\frac{k}{m}x = 0 $$"
   ]
  },
  {
   "cell_type": "markdown",
   "metadata": {},
   "source": [
    "$$ \\theta^2_0 = \\frac{k}{m}$$\n",
    "die volgende Gleichung ist die Normalform (by using the above substitution) für freie ungedämpfte leneare schwingen mit auslehung x(t) aus ggw-lage. (homogene differential gleichung 2. ordnung)\n",
    "$$ \\ddot x + \\theta^2_0x = 0 $$"
   ]
  },
  {
   "cell_type": "markdown",
   "metadata": {},
   "source": [
    "Lösung mit ansatz, $$ x(t) = Acos\\theta_0t + Bsin\\theta_0t$$"
   ]
  },
  {
   "cell_type": "markdown",
   "metadata": {},
   "source": [
    "$$\\dot x(t) = -Asin\\theta_0t \\cdot \\theta_0 + Bcos\\theta_0t \\cdot \\theta_0 $$\n",
    "\n",
    "Anfangsbedingungen (initial conditions)\n",
    "\n",
    "$$ x(0) = x_0 $$\n",
    "\n",
    "$$ \\dot x(0) = \\dot x_0 $$\n",
    "\n",
    "$$ A = x_0 $$\n",
    "\n",
    "$$ B = \\frac{\\dot x_0}{\\theta_0} $$\n",
    "\n",
    "\n",
    "\n",
    "**Equation 1**\n",
    "\n",
    "$$ x(t) = x_0cos\\theta_0t + \\frac{\\dot x_0}{\\theta_0} sin\\theta_0t$$"
   ]
  },
  {
   "cell_type": "markdown",
   "metadata": {},
   "source": [
    "<h3 align=\"center\">Alternative Darstellung</h3> </br>\n",
    "\n",
    "\n",
    "<center>max amplitude $c=\\sqrt{A^2 + B^2}$</center>\n",
    "\n",
    "$$ A = c \\cdot cos \\theta $$\n",
    "\n",
    "$$ B = c \\cdot sin\\theta $$\n",
    "\n",
    "<center> Phasenverschiebung $ \\phi = arctan(\\frac{B}{A}) $ </center>\n",
    "\n",
    "<center>trig identity:  $cosAcosB - sinAsinB = cos(A+B)$</center>\n",
    "\n",
    "$$x(t) = c \\cdot cos(\\theta_0t - \\theta) $$\n",
    "\n",
    "c = Skaliereing auf bestimmte Amplitude\n",
    "\n",
    "$\\theta$ = phasenverschiebung\n",
    "\n",
    "$x(t)$ = zeitverlaf der schwiegung = angepasste kosinusfunktion"
   ]
  },
  {
   "cell_type": "markdown",
   "metadata": {},
   "source": [
    "Aus dem zeitverlauf von $x(t)$ ergeben sich folgende kenngrößen:\n",
    "Period T = zeit zwisch zewi Nulldurchgängen\n",
    "\n",
    "$$ \\theta_0 T = 2\\pi <=> T =\\frac{2\\pi}{\\theta_0} $$\n",
    "\n",
    "$$ \\theta_0 \\sqrt{\\frac{k}{m}} $$\n",
    "\n",
    "it is possible to do a einheitcheck (check units) = 1/sekunden = rad/sek = kreis frequenz oder eigenfrequenz\n",
    "\n",
    "this is for ungedämpften syteme\n",
    "\n",
    "spaeter $\\theta$ = kreisfrequenz des gedämpften systems"
   ]
  }
 ],
 "metadata": {
  "kernelspec": {
   "display_name": "Python 3",
   "language": "python",
   "name": "python3"
  },
  "language_info": {
   "codemirror_mode": {
    "name": "ipython",
    "version": 3
   },
   "file_extension": ".py",
   "mimetype": "text/x-python",
   "name": "python",
   "nbconvert_exporter": "python",
   "pygments_lexer": "ipython3",
   "version": "3.4.3"
  }
 },
 "nbformat": 4,
 "nbformat_minor": 0
}
